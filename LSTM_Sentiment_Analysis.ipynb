{
 "cells": [
  {
   "cell_type": "code",
   "execution_count": 1,
   "metadata": {},
   "outputs": [
    {
     "name": "stdout",
     "output_type": "stream",
     "text": [
      "Loaded the word list\n",
      "Loaded the word vectors\n"
     ]
    }
   ],
   "source": [
    "import numpy as np\n",
    "wordsList = np.load('training_data/wordsList.npy')\n",
    "print('Loaded the word list')\n",
    "wordsList = wordsList.tolist() # Originally loaded as numpy array\n",
    "wordsList = [word.decode('UTF-8') for word in wordsList] # Encode words as UTF-8\n",
    "wordVectors = np.load('training_data/wordVectors.npy')\n",
    "print('Loaded the word vectors')"
   ]
  },
  {
   "cell_type": "code",
   "execution_count": 2,
   "metadata": {},
   "outputs": [
    {
     "name": "stdout",
     "output_type": "stream",
     "text": [
      "400000\n",
      "(400000, 50)\n"
     ]
    }
   ],
   "source": [
    "print(len(wordsList))\n",
    "print(wordVectors.shape)"
   ]
  },
  {
   "cell_type": "code",
   "execution_count": 3,
   "metadata": {},
   "outputs": [
    {
     "data": {
      "text/plain": [
       "array([-1.9327  ,  1.0421  , -0.78515 ,  0.91033 ,  0.22711 , -0.62158 ,\n",
       "       -1.6493  ,  0.07686 , -0.5868  ,  0.058831,  0.35628 ,  0.68916 ,\n",
       "       -0.50598 ,  0.70473 ,  1.2664  , -0.40031 , -0.020687,  0.80863 ,\n",
       "       -0.90566 , -0.074054, -0.87675 , -0.6291  , -0.12685 ,  0.11524 ,\n",
       "       -0.55685 , -1.6826  , -0.26291 ,  0.22632 ,  0.713   , -1.0828  ,\n",
       "        2.1231  ,  0.49869 ,  0.066711, -0.48226 , -0.17897 ,  0.47699 ,\n",
       "        0.16384 ,  0.16537 , -0.11506 , -0.15962 , -0.94926 , -0.42833 ,\n",
       "       -0.59457 ,  1.3566  , -0.27506 ,  0.19918 , -0.36008 ,  0.55667 ,\n",
       "       -0.70315 ,  0.17157 ], dtype=float32)"
      ]
     },
     "execution_count": 3,
     "metadata": {},
     "output_type": "execute_result"
    }
   ],
   "source": [
    "baseballindex = wordsList.index('baseball')\n",
    "wordVectors[baseballindex]"
   ]
  },
  {
   "cell_type": "code",
   "execution_count": 4,
   "metadata": {},
   "outputs": [],
   "source": [
    "import tensorflow as tf\n",
    "maxSeqLength = 10 # Maximum length of sentence\n",
    "numDimensions = 300 # Dimensions for each word vector\n",
    "firstSentence = np.zeros((maxSeqLength), dtype='int32')"
   ]
  },
  {
   "cell_type": "code",
   "execution_count": 5,
   "metadata": {},
   "outputs": [],
   "source": [
    "firstSentence[0]=wordsList.index(\"i\")\n",
    "firstSentence[1]=wordsList.index(\"thought\")\n",
    "firstSentence[2]=wordsList.index(\"the\")\n",
    "firstSentence[3]=wordsList.index(\"movie\")\n",
    "firstSentence[4]=wordsList.index(\"was\")\n",
    "firstSentence[5]=wordsList.index(\"incredible\")\n",
    "firstSentence[6]=wordsList.index(\"and\")\n",
    "firstSentence[7]=wordsList.index(\"inspiring\")"
   ]
  },
  {
   "cell_type": "code",
   "execution_count": 6,
   "metadata": {},
   "outputs": [
    {
     "name": "stdout",
     "output_type": "stream",
     "text": [
      "(10,)\n",
      "[    41    804 201534   1005     15   7446      5  13767      0      0]\n"
     ]
    }
   ],
   "source": [
    "print(firstSentence.shape)\n",
    "print(firstSentence)"
   ]
  },
  {
   "cell_type": "code",
   "execution_count": 7,
   "metadata": {},
   "outputs": [
    {
     "name": "stdout",
     "output_type": "stream",
     "text": [
      "(10, 50)\n"
     ]
    }
   ],
   "source": [
    "with tf.Session() as sess:\n",
    "    print(tf.nn.embedding_lookup(wordVectors,firstSentence).eval().shape)"
   ]
  },
  {
   "cell_type": "code",
   "execution_count": 8,
   "metadata": {},
   "outputs": [
    {
     "name": "stdout",
     "output_type": "stream",
     "text": [
      "Positive files finished\n",
      "Negative files finished\n"
     ]
    }
   ],
   "source": [
    "from os import listdir\n",
    "from os.path import isfile,join\n",
    "positiveFiles = ['training_data/positiveReviews/'+f for f in \n",
    "                 listdir('training_data/positiveReviews/') \n",
    "                 if isfile(join('training_data/positiveReviews',f))]\n",
    "\n",
    "negativeFiles = ['training_data/negativeReviews/'+f for f in \n",
    "                 listdir('training_data/negativeReviews/') \n",
    "                 if isfile(join('training_data/negativeReviews',f))]\n",
    "\n",
    "numWords = []\n",
    "for pf in positiveFiles:\n",
    "    with open(pf,\"r\",encoding='utf-8') as f:\n",
    "        line = f.readline()\n",
    "        counter = len(line.split())\n",
    "        numWords.append(counter)\n",
    "print('Positive files finished')\n",
    "\n",
    "for nf in negativeFiles:\n",
    "    with open(nf,\"r\",encoding='utf-8') as f:\n",
    "        line = f.readline()\n",
    "        counter = len(line.split())\n",
    "        numWords.append(counter)\n",
    "print(\"Negative files finished\")"
   ]
  },
  {
   "cell_type": "code",
   "execution_count": 9,
   "metadata": {},
   "outputs": [],
   "source": [
    "numFiles = len(numWords)"
   ]
  },
  {
   "cell_type": "code",
   "execution_count": 10,
   "metadata": {},
   "outputs": [
    {
     "name": "stdout",
     "output_type": "stream",
     "text": [
      "Total number of files is  25000\n",
      "Total number of words in the files is  5844680\n",
      "max number of words in the files is  2470\n",
      "Average number of words in the files is  233.7872\n"
     ]
    }
   ],
   "source": [
    "print(\"Total number of files is \",numFiles)\n",
    "print(\"Total number of words in the files is \",sum(numWords))\n",
    "print(\"max number of words in the files is \",max(numWords))\n",
    "print(\"Average number of words in the files is \",sum(numWords)/len(numWords))"
   ]
  },
  {
   "cell_type": "markdown",
   "metadata": {},
   "source": [
    "### Visualize the data in histogram format"
   ]
  },
  {
   "cell_type": "code",
   "execution_count": 11,
   "metadata": {},
   "outputs": [
    {
     "data": {
      "image/png": "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\n",
      "text/plain": [
       "<Figure size 432x288 with 1 Axes>"
      ]
     },
     "metadata": {
      "needs_background": "light"
     },
     "output_type": "display_data"
    }
   ],
   "source": [
    "import matplotlib.pyplot as plt\n",
    "%matplotlib inline\n",
    "plt.hist(numWords,50)\n",
    "plt.xlabel('Sequence Length')\n",
    "plt.ylabel('Frequency')\n",
    "plt.axis([0,1200,0,8000])\n",
    "plt.show()"
   ]
  },
  {
   "cell_type": "code",
   "execution_count": 12,
   "metadata": {},
   "outputs": [],
   "source": [
    "maxSeqLength = 250"
   ]
  },
  {
   "cell_type": "code",
   "execution_count": 13,
   "metadata": {},
   "outputs": [
    {
     "name": "stdout",
     "output_type": "stream",
     "text": [
      "It's a strange feeling to sit alone in a theater occupied by parents and their rollicking kids. I felt like instead of a movie ticket, I should have been given a NAMBLA membership.<br /><br />Based upon Thomas Rockwell's respected Book, How To Eat Fried Worms starts like any children's story: moving to a new town. The new kid, fifth grader Billy Forrester was once popular, but has to start anew. Making friends is never easy, especially when the only prospect is Poindexter Adam. Or Erica, who at 4 1/2 feet, is a giant.<br /><br />Further complicating things is Joe the bully. His freckled face and sleeveless shirts are daunting. He antagonizes kids with the Death Ring: a Crackerjack ring that is rumored to kill you if you're punched with it. But not immediately. No, the death ring unleashes a poison that kills you in the eight grade.<br /><br />Joe and his axis of evil welcome Billy by smuggling a handful of slimy worms into his thermos. Once discovered, Billy plays it cool, swearing that he eats worms all the time. Then he throws them at Joe's face. Ewww! To win them over, Billy reluctantly bets that he can eat 10 worms. Fried, boiled, marinated in hot sauce, squashed and spread on a peanut butter sandwich. Each meal is dubbed an exotic name like the \"Radioactive Slime Delight,\" in which the kids finally live out their dream of microwaving a living organism.<br /><br />If you've ever met me, you'll know that I have an uncontrollably hearty laugh. I felt like a creep erupting at a toddler whining that his \"dilly dick\" hurts. But Fried Worms is wonderfully disgusting. Like a G-rated Farrelly brothers film, it is both vomitous and delightful.<br /><br />Writer/director Bob Dolman is also a savvy storyteller. To raise the stakes the worms must be consumed by 7 pm. In addition Billy holds a dark secret: he has an ultra-sensitive stomach.<br /><br />Dolman also has a keen sense of perspective. With such accuracy, he draws on children's insecurities and tendency to exaggerate mundane dilemmas.<br /><br />If you were to hyperbolize this movie the way kids do their quandaries, you will see that it is essentially about war. Freedom-fighter and freedom-hater use pubescent boys as pawns in proxy wars, only to learn a valuable lesson in unity. International leaders can learn a thing or two about global peacekeeping from Fried Worms.<br /><br />At the end of the film, I was comforted when two chaperoning mothers behind me, looked at each other with befuddlement and agreed, \"That was a great movie.\" Great, now I won't have to register myself in any lawful databases.\n"
     ]
    }
   ],
   "source": [
    "fname = positiveFiles[3] # Can use any valid index (not just 3)\n",
    "with open(fname) as f:\n",
    "    for lines in f:\n",
    "        print(lines)\n",
    "        exit"
   ]
  },
  {
   "cell_type": "markdown",
   "metadata": {},
   "source": [
    "Now let's convert to an idx matrix"
   ]
  },
  {
   "cell_type": "code",
   "execution_count": 14,
   "metadata": {},
   "outputs": [],
   "source": [
    "# Removes punctuation, parentheses, question marks, etc., and leaves only alphanumeric characters\n",
    "import re\n",
    "strip_special_chars = re.compile(\"[^A-Za-z0-9 ]+\")\n",
    "\n",
    "def cleanSentences(string):\n",
    "    string = string.lower().replace(\"<br />\",\" \")\n",
    "    return re.sub(strip_special_chars,\"\",string.lower())"
   ]
  },
  {
   "cell_type": "code",
   "execution_count": 15,
   "metadata": {},
   "outputs": [
    {
     "data": {
      "text/plain": [
       "array([    47,      7,   5186,   2518,      4,   3162,   1485,      6,\n",
       "            7,   2248,   3001,     21,   1108,      5,     44,  48222,\n",
       "         1813,     41,   1349,    117,    773,      3,      7,   1005,\n",
       "         3317,     41,    189,     33,     51,    454,      7, 166008,\n",
       "         2798,    243,   1219,   1160, 399999,   5313,    539,    197,\n",
       "            4,   3623,  10503,  16632,   2383,    117,    130,  53362,\n",
       "          523,   1233,      4,      7,     50,    328, 201534,     50,\n",
       "         4313,   1239,  20155,   4785,  19798,     15,    442,    814,\n",
       "           34,     31,      4,    465,  16972,    433,   1095,     14,\n",
       "          332,   1673,    858,     61, 201534,     91,   4251,     14,\n",
       "        54048,   3926,     46,  23842,     38,     22,    409,    421,\n",
       "         1237,     14,      7,   1752,    489,  20773,    654,     14,\n",
       "         1984, 201534,  17224,     26,  91953,    621,      5,  44864,\n",
       "         6162,     32,  13073,     18, 167360,   1813,     17, 201534,\n",
       "          336,   2930,      7, 110855,   2930,     12,     14,  16215,\n",
       "            4,   1916,     81,     83, 211666,  14019,     17,     20,\n",
       "           34,     36,   1040,     84, 201534,    336,   2930,  53948,\n",
       "            7,   9373,     12,   5059,     81,      6, 201534,    502,\n",
       "         2833,   1984,      5,     26,   8906,      3,   4367,   3143,\n",
       "         4785,     21,   5619,      7,   4883,      3,  50058,  16632,\n",
       "           75,     26,  80190,    442,   1870,   4785,   1381,     20,\n",
       "         3451,  15894,     12,     18,  16788,  16632,     64, 201534,\n",
       "           79,    127,     18,   7034,    101,     22,  57299,    621,\n",
       "       356071,      4,    320,    101,     74,   4785,  13876,  11970,\n",
       "           12,     18,     86,   3623,    206,  16632,  10503,  15445,\n",
       "        42210,      6,   1627,   6892,  49424,      5,   1635,     13,\n",
       "            7,  13943,   6458,  12611,    236,   6858,     14,   5929,\n",
       "           29,   9741,    311,    117, 201534,   9958,  41608,  12147,\n",
       "            6,     42, 201534,   1813,   1229,    682,     66,     44,\n",
       "         2895,      3, 137110,      7,    756,  18181,     83, 399999,\n",
       "          661,    809,    285, 363010,    346,     12,     41,     33,\n",
       "           29,  47442], dtype=int32)"
      ]
     },
     "execution_count": 15,
     "metadata": {},
     "output_type": "execute_result"
    }
   ],
   "source": [
    "firstFile = np.zeros((maxSeqLength),dtype='int32')\n",
    "with open(fname) as f:\n",
    "    indexCounter=0\n",
    "    line=f.readline()\n",
    "    cleanedLine=cleanSentences(line)\n",
    "    split=cleanedLine.split()\n",
    "    for word in split:\n",
    "        if indexCounter<maxSeqLength:\n",
    "            try:\n",
    "                firstFile[indexCounter] = wordsList.index(word)\n",
    "            except ValueError:\n",
    "                firstFile[indexCounter]=399999 # Vector for unknown words\n",
    "        indexCounter=indexCounter+1\n",
    "firstFile"
   ]
  },
  {
   "cell_type": "code",
   "execution_count": 16,
   "metadata": {},
   "outputs": [],
   "source": [
    "# ids = np.zeros((numFiles, maxSeqLength), dtype='int32')\n",
    "# fileCounter = 0\n",
    "# for pf in positiveFiles:\n",
    "#    with open(pf, \"r\") as f:\n",
    "#        indexCounter = 0\n",
    "#        line=f.readline()\n",
    "#        cleanedLine = cleanSentences(line)\n",
    "#        split = cleanedLine.split()\n",
    "#        for word in split:\n",
    "#            try:\n",
    "#                ids[fileCounter][indexCounter] = wordsList.index(word)\n",
    "#            except ValueError:\n",
    "#                ids[fileCounter][indexCounter] = 399999 #Vector for unkown words\n",
    "#            indexCounter = indexCounter + 1\n",
    "#            if indexCounter >= maxSeqLength:\n",
    "#                break\n",
    "#        fileCounter = fileCounter + 1 \n",
    "\n",
    "# for nf in negativeFiles:\n",
    "#    with open(nf, \"r\") as f:\n",
    "#        indexCounter = 0\n",
    "#        line=f.readline()\n",
    "#        cleanedLine = cleanSentences(line)\n",
    "#        split = cleanedLine.split()\n",
    "#        for word in split:\n",
    "#            try:\n",
    "#                ids[fileCounter][indexCounter] = wordsList.index(word)\n",
    "#            except ValueError:\n",
    "#                ids[fileCounter][indexCounter] = 399999 #Vector for unkown words\n",
    "#            indexCounter = indexCounter + 1\n",
    "#            if indexCounter >= maxSeqLength:\n",
    "#                break\n",
    "#        fileCounter = fileCounter + 1 \n",
    "# #Pass into embedding function and see if it evaluates. \n",
    "\n",
    "# np.save('idsMatrix', ids)"
   ]
  },
  {
   "cell_type": "code",
   "execution_count": 17,
   "metadata": {},
   "outputs": [],
   "source": [
    "# ids = np.zeros((numFiles,maxSeqLength),dtype='int32')\n",
    "# fileCounter=0\n",
    "# for pf in positiveFiles:\n",
    "#     with open(pf,\"r\") as f:\n",
    "#         indexCounter = 0\n",
    "#         line = f.readline()\n",
    "#         cleanedLine = cleanSentences(line)\n",
    "#         split = cleanedLine.split()\n",
    "#         for word in split:\n",
    "#             try:\n",
    "#                 ids[fileCounter][indexCounter]=wordsList.index(word)\n",
    "#             except ValueError:\n",
    "#                 ids[fileCounter][indexCounter]=399999 # Vector for unknown words\n",
    "#             indexCounter=indexCounter+1\n",
    "#             if indexCounter>=maxSeqLength:\n",
    "#                 break\n",
    "#         fileCounter=fileCounter+1\n",
    "\n",
    "# for nf in negativeFiles:\n",
    "#     with open(nf,\"r\") as f:\n",
    "#         indexCounter=0\n",
    "#         line = f.readline()\n",
    "#         cleanedLine = cleanSentences(line)\n",
    "#         split = cleanedLine.split()\n",
    "#         for word in split:\n",
    "#             try:\n",
    "#                 ids[fileCounter][indexCounter]=wordsList.index(word)\n",
    "#             except ValueError:\n",
    "#                 ids[fileCounter][indexCounter]=399999 # Vector for unkown words\n",
    "#             indexCounter=indexCounter+1\n",
    "#             if indexCounter>=maxSeqLength:\n",
    "#                 break;\n",
    "#         fileCounter=fileCounter+1\n",
    "\n",
    "# # Pass into embedding function and see if it evaluates\n",
    "# # np.save('training_data/idsMatrixNew',ids)"
   ]
  },
  {
   "cell_type": "code",
   "execution_count": 18,
   "metadata": {},
   "outputs": [],
   "source": [
    "ids = np.load('training_data/idsMatrix.npy')"
   ]
  },
  {
   "cell_type": "markdown",
   "metadata": {},
   "source": [
    "### Helper Functions\n",
    "Below you can find a couple of helper functions that will be useful when training the network in a later step"
   ]
  },
  {
   "cell_type": "code",
   "execution_count": null,
   "metadata": {},
   "outputs": [],
   "source": [
    "from random import randint"
   ]
  },
  {
   "cell_type": "code",
   "execution_count": null,
   "metadata": {},
   "outputs": [],
   "source": [
    "from random import randint\n",
    "\n",
    "def getTrainBatch():\n",
    "    labels = []\n",
    "    arr = np.zeros([batchSize, maxSeqLength])\n",
    "    for i in range(batchSize):\n",
    "        if (i % 2 == 0): \n",
    "            num = randint(1,11499)\n",
    "            labels.append([1,0])\n",
    "        else:\n",
    "            num = randint(13499,24999)\n",
    "            labels.append([0,1])\n",
    "        arr[i] = ids[num-1:num]\n",
    "    return arr, labels\n",
    "\n",
    "def getTestBatch():\n",
    "    labels = []\n",
    "    arr = np.zeros([batchSize, maxSeqLength])\n",
    "    for i in range(batchSize):\n",
    "        num = randint(11499,13499)\n",
    "        if (num <= 12499):\n",
    "            labels.append([1,0])\n",
    "        else:\n",
    "            labels.append([0,1])\n",
    "        arr[i] = ids[num-1:num]\n",
    "    return arr, labels"
   ]
  },
  {
   "cell_type": "markdown",
   "metadata": {},
   "source": [
    "### RNN Model = LSTM"
   ]
  },
  {
   "cell_type": "markdown",
   "metadata": {},
   "source": [
    "Hyperparameters"
   ]
  },
  {
   "cell_type": "code",
   "execution_count": null,
   "metadata": {},
   "outputs": [],
   "source": [
    "batchSize=24\n",
    "lstmUnits = 64\n",
    "numClasses = 2\n",
    "iterations = 100000"
   ]
  },
  {
   "cell_type": "code",
   "execution_count": null,
   "metadata": {},
   "outputs": [],
   "source": [
    "import tensorflow as tf\n",
    "tf.reset_default_graph()\n",
    "\n",
    "labels = tf.placeholder(tf.float32,[batchSize,numClasses])\n",
    "input_data = tf.placeholder(tf.int32,[batchSize,maxSeqLength])"
   ]
  },
  {
   "cell_type": "code",
   "execution_count": null,
   "metadata": {},
   "outputs": [],
   "source": [
    "data = tf.Variable(tf.zeros([batchSize,maxSeqLength,numDimensions]),dtype=tf.float32)\n",
    "data = tf.nn.embedding_lookup(wordVectors,input_data)"
   ]
  },
  {
   "cell_type": "code",
   "execution_count": null,
   "metadata": {},
   "outputs": [],
   "source": [
    "#lstmCell = tf.nn.rnn_cell.LSTMCell(lstmUnits)\n",
    "lstmCell = tf.contrib.rnn.LSTMCell(lstmUnits)\n",
    "lstmCell = tf.contrib.rnn.DropoutWrapper(cell=lstmCell,output_keep_prob=0.75)\n",
    "value, _ = tf.nn.dynamic_rnn(lstmCell,data,dtype=tf.float32)"
   ]
  },
  {
   "cell_type": "code",
   "execution_count": null,
   "metadata": {},
   "outputs": [],
   "source": [
    "weight = tf.Variable(tf.truncated_normal([lstmUnits,numClasses]))\n",
    "bias = tf.Variable(tf.constant(0.1,shape=[numClasses]))\n",
    "value = tf.transpose(value,[1,0,2])\n",
    "last = tf.gather(value,int(value.get_shape()[0])-1)\n",
    "prediction=(tf.matmul(last,weight)+bias)"
   ]
  },
  {
   "cell_type": "code",
   "execution_count": null,
   "metadata": {},
   "outputs": [],
   "source": [
    "correctPred = tf.equal(tf.argmax(prediction,1),tf.argmax(labels,1))\n",
    "accuracy = tf.reduce_mean(tf.cast(correctPred,tf.float32))"
   ]
  },
  {
   "cell_type": "code",
   "execution_count": null,
   "metadata": {},
   "outputs": [
    {
     "name": "stdout",
     "output_type": "stream",
     "text": [
      "WARNING:tensorflow:From <ipython-input-27-b1dc66347751>:1: softmax_cross_entropy_with_logits (from tensorflow.python.ops.nn_ops) is deprecated and will be removed in a future version.\n",
      "Instructions for updating:\n",
      "\n",
      "Future major versions of TensorFlow will allow gradients to flow\n",
      "into the labels input on backprop by default.\n",
      "\n",
      "See @{tf.nn.softmax_cross_entropy_with_logits_v2}.\n",
      "\n"
     ]
    }
   ],
   "source": [
    "loss = tf.reduce_mean(tf.nn.softmax_cross_entropy_with_logits(logits=prediction,labels=labels))\n",
    "optimizer = tf.train.AdamOptimizer(learning_rate=0.001).minimize(loss)"
   ]
  },
  {
   "cell_type": "code",
   "execution_count": null,
   "metadata": {},
   "outputs": [],
   "source": [
    "import datetime\n",
    "\n",
    "tf.summary.scalar('Loss',loss)\n",
    "tf.summary.scalar('Accuracy',accuracy)\n",
    "merged = tf.summary.merge_all()\n",
    "logdir = \"tensorboard/\"+datetime.datetime.now().strftime(\"%Y%m%d-%H%M%S\") + \"/\"\n",
    "writer = tf.summary.FileWriter(logdir,sess.graph)"
   ]
  },
  {
   "cell_type": "code",
   "execution_count": null,
   "metadata": {},
   "outputs": [
    {
     "name": "stdout",
     "output_type": "stream",
     "text": [
      "0 \tMSE:  0.70239204\n",
      "100 \tMSE:  0.7704103\n",
      "200 \tMSE:  0.72484946\n",
      "300 \tMSE:  0.6650713\n",
      "400 \tMSE:  0.73825955\n",
      "500 \tMSE:  0.6765137\n",
      "600 \tMSE:  0.67425126\n",
      "700 \tMSE:  0.6002588\n",
      "800 \tMSE:  0.7610357\n",
      "900 \tMSE:  0.7032428\n",
      "1000 \tMSE:  0.69564885\n",
      "1100 \tMSE:  0.6756484\n",
      "1200 \tMSE:  0.65206915\n",
      "1300 \tMSE:  0.655274\n",
      "1400 \tMSE:  0.7586879\n",
      "1500 \tMSE:  0.7355204\n",
      "1600 \tMSE:  0.682193\n",
      "1700 \tMSE:  0.6349866\n",
      "1800 \tMSE:  0.6947489\n",
      "1900 \tMSE:  0.7038825\n",
      "2000 \tMSE:  0.69891196\n",
      "2100 \tMSE:  0.6842255\n",
      "2200 \tMSE:  0.67714375\n",
      "2300 \tMSE:  0.5899648\n",
      "2400 \tMSE:  0.67243415\n",
      "2500 \tMSE:  0.6829712\n",
      "2600 \tMSE:  0.6365269\n",
      "2700 \tMSE:  0.6288336\n",
      "2800 \tMSE:  0.6960718\n",
      "2900 \tMSE:  0.689007\n",
      "3000 \tMSE:  0.67068547\n",
      "3100 \tMSE:  0.6162595\n",
      "3200 \tMSE:  0.4762595\n",
      "3300 \tMSE:  0.6306269\n",
      "3400 \tMSE:  0.68130094\n",
      "3500 \tMSE:  0.7040367\n",
      "3600 \tMSE:  0.7005046\n",
      "3700 \tMSE:  0.65075237\n",
      "3800 \tMSE:  0.6391906\n",
      "3900 \tMSE:  0.6203993\n",
      "4000 \tMSE:  0.71265167\n",
      "4100 \tMSE:  0.66354734\n",
      "4200 \tMSE:  0.7727079\n",
      "4300 \tMSE:  0.6224147\n",
      "4400 \tMSE:  0.6414135\n",
      "4500 \tMSE:  0.6537926\n",
      "4600 \tMSE:  0.688189\n",
      "4700 \tMSE:  0.66269433\n",
      "4800 \tMSE:  0.69745326\n",
      "4900 \tMSE:  0.6826276\n",
      "5000 \tMSE:  0.6549164\n",
      "5100 \tMSE:  0.69784206\n",
      "5200 \tMSE:  0.68013716\n",
      "5300 \tMSE:  0.7037614\n",
      "5400 \tMSE:  0.7023452\n",
      "5500 \tMSE:  0.6268028\n",
      "5600 \tMSE:  0.66024566\n",
      "5700 \tMSE:  0.66580874\n",
      "5800 \tMSE:  0.6214002\n",
      "5900 \tMSE:  0.6147761\n",
      "6000 \tMSE:  0.5919238\n",
      "6100 \tMSE:  0.6504271\n",
      "6200 \tMSE:  0.70568967\n",
      "6300 \tMSE:  0.62261516\n",
      "6400 \tMSE:  0.60914314\n",
      "6500 \tMSE:  0.65935093\n",
      "6600 \tMSE:  0.6744604\n",
      "6700 \tMSE:  0.69912344\n",
      "6800 \tMSE:  0.58000803\n"
     ]
    }
   ],
   "source": [
    "sess = tf.InteractiveSession()\n",
    "saver = tf.train.Saver()\n",
    "sess.run(tf.global_variables_initializer())\n",
    "\n",
    "for i in range(iterations):\n",
    "    #Next Batch of reviews\n",
    "    nextBatch, nextBatchLabels = getTrainBatch();\n",
    "    sess.run(optimizer, {input_data: nextBatch, labels: nextBatchLabels})\n",
    "    \n",
    "    #Write summary to Tensorboard\n",
    "    if (i % 50 == 0):\n",
    "        summary = sess.run(merged, {input_data: nextBatch, labels: nextBatchLabels})\n",
    "        writer.add_summary(summary, i)\n",
    "    \n",
    "    if i%100==0:\n",
    "        mse = loss.eval(feed_dict={input_data: nextBatch, labels: nextBatchLabels})\n",
    "        print(i, \"\\tMSE: \",mse)\n",
    "    \n",
    "    #Save the network every 10,000 training iterations\n",
    "    if (i % 10000 == 0 and i != 0):\n",
    "        save_path = saver.save(sess, \"models/pretrained_lstm.ckpt\", global_step=i)\n",
    "        print(\"saved to %s\" % save_path)\n",
    "writer.close()"
   ]
  },
  {
   "cell_type": "code",
   "execution_count": null,
   "metadata": {},
   "outputs": [],
   "source": []
  },
  {
   "cell_type": "code",
   "execution_count": null,
   "metadata": {},
   "outputs": [],
   "source": []
  },
  {
   "cell_type": "code",
   "execution_count": null,
   "metadata": {},
   "outputs": [],
   "source": []
  },
  {
   "cell_type": "code",
   "execution_count": null,
   "metadata": {},
   "outputs": [],
   "source": []
  },
  {
   "cell_type": "code",
   "execution_count": null,
   "metadata": {},
   "outputs": [],
   "source": []
  },
  {
   "cell_type": "code",
   "execution_count": null,
   "metadata": {},
   "outputs": [],
   "source": [
    "x = tf.constant([[1, 2, 3],\n",
    "                 [4, 5, 6],\n",
    "                 [7, 8, 9]])\n",
    "idx = tf.constant([1, 0, 2])\n",
    "idx_flattened = tf.range(0, x.shape[0]) * x.shape[1] + idx\n",
    "y = tf.gather(tf.reshape(x, [-1]),  # flatten input\n",
    "              idx_flattened)  # use flattened indices\n",
    "\n",
    "with tf.Session(''):\n",
    "    print(y.eval())  # [2 4 9]"
   ]
  },
  {
   "cell_type": "code",
   "execution_count": null,
   "metadata": {},
   "outputs": [],
   "source": []
  },
{
   "cell_type": "code",
   "execution_count": null,
   "metadata": {},
   "outputs": [],
   "source": [
    "??split"
   ]
  },
  {
   "cell_type": "code",
   "execution_count": null,
   "metadata": {},
   "outputs": [],
   "source": []
  },
{
   "cell_type": "code",
   "execution_count": null,
   "metadata": {},
   "outputs": [],
   "source": []
  },
  {
   "cell_type": "code",
   "execution_count": null,
   "metadata": {},
   "outputs": [],
   "source": []
  },
